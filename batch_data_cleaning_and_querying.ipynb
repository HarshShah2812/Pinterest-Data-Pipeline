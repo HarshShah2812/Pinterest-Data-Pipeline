{
 "cells": [
  {
   "cell_type": "code",
   "execution_count": null,
   "metadata": {
    "application/vnd.databricks.v1+cell": {
     "cellMetadata": {
      "byteLimit": 2048000,
      "rowLimit": 10000
     },
     "inputWidgets": {},
     "nuid": "0f3872a3-d654-467e-8962-889cea5adcbc",
     "showTitle": false,
     "title": ""
    }
   },
   "outputs": [
    {
     "data": {
      "text/html": [
       "<style scoped>\n",
       "  .ansiout {\n",
       "    display: block;\n",
       "    unicode-bidi: embed;\n",
       "    white-space: pre-wrap;\n",
       "    word-wrap: break-word;\n",
       "    word-break: break-all;\n",
       "    font-family: \"Source Code Pro\", \"Menlo\", monospace;;\n",
       "    font-size: 13px;\n",
       "    color: #555;\n",
       "    margin-left: 4px;\n",
       "    line-height: 19px;\n",
       "  }\n",
       "</style>\n",
       "<div class=\"ansiout\">Out[221]: [FileInfo(path=&#39;dbfs:/FileStore/tables/authentication_credentials.csv&#39;, name=&#39;authentication_credentials.csv&#39;, size=202, modificationTime=1687110999000)]</div>"
      ]
     },
     "metadata": {
      "application/vnd.databricks.v1+output": {
       "addedWidgets": {},
       "arguments": {},
       "data": "<div class=\"ansiout\">Out[221]: [FileInfo(path=&#39;dbfs:/FileStore/tables/authentication_credentials.csv&#39;, name=&#39;authentication_credentials.csv&#39;, size=202, modificationTime=1687110999000)]</div>",
       "datasetInfos": [],
       "metadata": {},
       "removedWidgets": [],
       "type": "html"
      }
     },
     "output_type": "display_data"
    }
   ],
   "source": [
    "# Checking the contents in FileStore, the location where we uploaded our AWS credentials\n",
    "dbutils.fs.ls(\"/FileStore/tables\")"
   ]
  },
  {
   "cell_type": "code",
   "execution_count": null,
   "metadata": {
    "application/vnd.databricks.v1+cell": {
     "cellMetadata": {
      "byteLimit": 2048000,
      "rowLimit": 10000
     },
     "inputWidgets": {},
     "nuid": "7711d78f-0137-4dde-af99-42fc250f7933",
     "showTitle": false,
     "title": ""
    }
   },
   "outputs": [
    {
     "data": {
      "text/html": [
       "<style scoped>\n",
       "  .ansiout {\n",
       "    display: block;\n",
       "    unicode-bidi: embed;\n",
       "    white-space: pre-wrap;\n",
       "    word-wrap: break-word;\n",
       "    word-break: break-all;\n",
       "    font-family: \"Source Code Pro\", \"Menlo\", monospace;;\n",
       "    font-size: 13px;\n",
       "    color: #555;\n",
       "    margin-left: 4px;\n",
       "    line-height: 19px;\n",
       "  }\n",
       "</style>\n",
       "<div class=\"ansiout\"></div>"
      ]
     },
     "metadata": {
      "application/vnd.databricks.v1+output": {
       "addedWidgets": {},
       "arguments": {},
       "data": "<div class=\"ansiout\"></div>",
       "datasetInfos": [],
       "metadata": {},
       "removedWidgets": [],
       "type": "html"
      }
     },
     "output_type": "display_data"
    }
   ],
   "source": [
    "from pyspark.sql.functions import *\n",
    "import urllib"
   ]
  },
  {
   "cell_type": "code",
   "execution_count": null,
   "metadata": {
    "application/vnd.databricks.v1+cell": {
     "cellMetadata": {
      "byteLimit": 2048000,
      "rowLimit": 10000
     },
     "inputWidgets": {},
     "nuid": "9c762bd1-54da-4099-a185-45f919b12ef9",
     "showTitle": false,
     "title": ""
    }
   },
   "outputs": [
    {
     "data": {
      "text/html": [
       "<style scoped>\n",
       "  .ansiout {\n",
       "    display: block;\n",
       "    unicode-bidi: embed;\n",
       "    white-space: pre-wrap;\n",
       "    word-wrap: break-word;\n",
       "    word-break: break-all;\n",
       "    font-family: \"Source Code Pro\", \"Menlo\", monospace;;\n",
       "    font-size: 13px;\n",
       "    color: #555;\n",
       "    margin-left: 4px;\n",
       "    line-height: 19px;\n",
       "  }\n",
       "</style>\n",
       "<div class=\"ansiout\"></div>"
      ]
     },
     "metadata": {
      "application/vnd.databricks.v1+output": {
       "addedWidgets": {},
       "arguments": {},
       "data": "<div class=\"ansiout\"></div>",
       "datasetInfos": [],
       "metadata": {},
       "removedWidgets": [],
       "type": "html"
      }
     },
     "output_type": "display_data"
    }
   ],
   "source": [
    "# Specify file type to be csv\n",
    "file_type = \"csv\"\n",
    "# Indicates file has first row as the header\n",
    "first_row_is_header = \"true\"\n",
    "# Indicates file has comma as the delimeter\n",
    "delimiter = \",\"\n",
    "# Read the CSV file to spark dataframe\n",
    "aws_keys_df = spark.read.format(file_type)\\\n",
    ".option(\"header\", first_row_is_header)\\\n",
    ".option(\"sep\", delimiter)\\\n",
    ".load(\"/FileStore/tables/authentication_credentials.csv\")"
   ]
  },
  {
   "cell_type": "code",
   "execution_count": null,
   "metadata": {
    "application/vnd.databricks.v1+cell": {
     "cellMetadata": {
      "byteLimit": 2048000,
      "rowLimit": 10000
     },
     "inputWidgets": {},
     "nuid": "5a47dc75-50af-4501-8049-f980f47149e9",
     "showTitle": false,
     "title": ""
    }
   },
   "outputs": [
    {
     "data": {
      "text/html": [
       "<style scoped>\n",
       "  .ansiout {\n",
       "    display: block;\n",
       "    unicode-bidi: embed;\n",
       "    white-space: pre-wrap;\n",
       "    word-wrap: break-word;\n",
       "    word-break: break-all;\n",
       "    font-family: \"Source Code Pro\", \"Menlo\", monospace;;\n",
       "    font-size: 13px;\n",
       "    color: #555;\n",
       "    margin-left: 4px;\n",
       "    line-height: 19px;\n",
       "  }\n",
       "</style>\n",
       "<div class=\"ansiout\"></div>"
      ]
     },
     "metadata": {
      "application/vnd.databricks.v1+output": {
       "addedWidgets": {},
       "arguments": {},
       "data": "<div class=\"ansiout\"></div>",
       "datasetInfos": [],
       "metadata": {},
       "removedWidgets": [],
       "type": "html"
      }
     },
     "output_type": "display_data"
    }
   ],
   "source": [
    "# Get the AWS access key and secret key from the spark dataframe\n",
    "ACCESS_KEY = aws_keys_df.where(col('User name')=='databricks-user').select('Access key ID').collect()[0]['Access key ID']\n",
    "SECRET_KEY = aws_keys_df.where(col('User name')=='databricks-user').select('Secret access key').collect()[0]['Secret access key']\n",
    "# Encode the secrete key\n",
    "ENCODED_SECRET_KEY = urllib.parse.quote(string=SECRET_KEY, safe=\"\")"
   ]
  },
  {
   "cell_type": "code",
   "execution_count": null,
   "metadata": {
    "application/vnd.databricks.v1+cell": {
     "cellMetadata": {
      "byteLimit": 2048000,
      "rowLimit": 10000
     },
     "inputWidgets": {},
     "nuid": "ff516508-e8f0-4c48-8064-e2f1c255f31c",
     "showTitle": false,
     "title": ""
    }
   },
   "outputs": [
    {
     "data": {
      "text/html": [
       "<style scoped>\n",
       "  .ansiout {\n",
       "    display: block;\n",
       "    unicode-bidi: embed;\n",
       "    white-space: pre-wrap;\n",
       "    word-wrap: break-word;\n",
       "    word-break: break-all;\n",
       "    font-family: \"Source Code Pro\", \"Menlo\", monospace;;\n",
       "    font-size: 13px;\n",
       "    color: #555;\n",
       "    margin-left: 4px;\n",
       "    line-height: 19px;\n",
       "  }\n",
       "</style>\n",
       "<div class=\"ansiout\">Out[225]: True</div>"
      ]
     },
     "metadata": {
      "application/vnd.databricks.v1+output": {
       "addedWidgets": {},
       "arguments": {},
       "data": "<div class=\"ansiout\">Out[225]: True</div>",
       "datasetInfos": [],
       "metadata": {},
       "removedWidgets": [],
       "type": "html"
      }
     },
     "output_type": "display_data"
    }
   ],
   "source": [
    "AWS_S3_BUCKET = \"user-0e4c2ab6fb3b-bucket\"\n",
    "# Mount name for the bucket\n",
    "MOUNT_NAME = \"/mnt/pdp_mount\"\n",
    "# Source url\n",
    "SOURCE_URL = \"s3n://{0}:{1}@{2}\".format(ACCESS_KEY, ENCODED_SECRET_KEY, AWS_S3_BUCKET)\n",
    "# Mount the drive\n",
    "dbutils.fs.mount(SOURCE_URL, MOUNT_NAME)"
   ]
  },
  {
   "cell_type": "code",
   "execution_count": null,
   "metadata": {
    "application/vnd.databricks.v1+cell": {
     "cellMetadata": {
      "byteLimit": 2048000,
      "rowLimit": 10000
     },
     "inputWidgets": {},
     "nuid": "c3fc4ae4-dcf0-4832-ab61-00e691a2572e",
     "showTitle": false,
     "title": ""
    }
   },
   "outputs": [],
   "source": [
    "# Check if the S3 bucket was mounted succesfully\n",
    "display(dbutils.fs.ls(\"/mnt/pdp_mount/../..\")) "
   ]
  },
  {
   "cell_type": "code",
   "execution_count": null,
   "metadata": {
    "application/vnd.databricks.v1+cell": {
     "cellMetadata": {
      "byteLimit": 2048000,
      "rowLimit": 10000
     },
     "inputWidgets": {},
     "nuid": "682c5abc-5af6-4504-8abf-d5762ccb42e0",
     "showTitle": false,
     "title": ""
    }
   },
   "outputs": [],
   "source": [
    "# Specify the whole path to check the contents of a given topic in the S3 bucket\n",
    "display(dbutils.fs.ls(\"/mnt/pdp_mount/topics/0e4c2ab6fb3b.user/partition=0/\"))"
   ]
  },
  {
   "cell_type": "code",
   "execution_count": null,
   "metadata": {
    "application/vnd.databricks.v1+cell": {
     "cellMetadata": {
      "byteLimit": 2048000,
      "rowLimit": 10000
     },
     "inputWidgets": {},
     "nuid": "151769c7-f209-4fab-9c7d-61af7c53c914",
     "showTitle": false,
     "title": ""
    }
   },
   "outputs": [
    {
     "data": {
      "text/html": [
       "<style scoped>\n",
       "  .ansiout {\n",
       "    display: block;\n",
       "    unicode-bidi: embed;\n",
       "    white-space: pre-wrap;\n",
       "    word-wrap: break-word;\n",
       "    word-break: break-all;\n",
       "    font-family: \"Source Code Pro\", \"Menlo\", monospace;;\n",
       "    font-size: 13px;\n",
       "    color: #555;\n",
       "    margin-left: 4px;\n",
       "    line-height: 19px;\n",
       "  }\n",
       "</style>\n",
       "<div class=\"ansiout\"></div>"
      ]
     },
     "metadata": {
      "application/vnd.databricks.v1+output": {
       "addedWidgets": {},
       "arguments": {},
       "data": "<div class=\"ansiout\"></div>",
       "datasetInfos": [],
       "metadata": {},
       "removedWidgets": [],
       "type": "html"
      }
     },
     "output_type": "display_data"
    }
   ],
   "source": [
    "# File location and type\n",
    "# Asterisk(*) indicates reading all the content of the specified file that have .json extension\n",
    "def read_json(record_type):\n",
    "    '''\n",
    "    Reads all the json files into a Spark dataframe \n",
    "    \n",
    "    Parameters\n",
    "    ----------\n",
    "    record_type: str\n",
    "        pin, geo or user \n",
    "    \n",
    "    Returns\n",
    "    -------\n",
    "    df:\n",
    "    resulting dataframe that shows all the json data read from the mounted S3 bucket\n",
    "    '''\n",
    "    file_location = f\"/mnt/pdp_mount/topics/0e4c2ab6fb3b.{record_type}/partition=0/*.json\" \n",
    "    file_type = \"json\"\n",
    "    # Ask Spark to infer the schema\n",
    "    infer_schema = \"true\"\n",
    "    # Read in JSONs from mounted S3 bucket\n",
    "    df = spark.read.format(file_type) \\\n",
    "    .option(\"inferSchema\", infer_schema) \\\n",
    "    .load(file_location)\n",
    "    return df\n",
    "\n",
    "df_pin = read_json(\"pin\")\n",
    "df_geo = read_json(\"geo\")\n",
    "df_user = read_json(\"user\")"
   ]
  },
  {
   "cell_type": "code",
   "execution_count": null,
   "metadata": {
    "application/vnd.databricks.v1+cell": {
     "cellMetadata": {
      "byteLimit": 2048000,
      "rowLimit": 10000
     },
     "inputWidgets": {},
     "nuid": "705431eb-38ba-4e5d-9b97-2d75d851e29c",
     "showTitle": false,
     "title": ""
    }
   },
   "outputs": [
    {
     "data": {
      "text/html": [
       "<style scoped>\n",
       "  .ansiout {\n",
       "    display: block;\n",
       "    unicode-bidi: embed;\n",
       "    white-space: pre-wrap;\n",
       "    word-wrap: break-word;\n",
       "    word-break: break-all;\n",
       "    font-family: \"Source Code Pro\", \"Menlo\", monospace;;\n",
       "    font-size: 13px;\n",
       "    color: #555;\n",
       "    margin-left: 4px;\n",
       "    line-height: 19px;\n",
       "  }\n",
       "</style>\n",
       "<div class=\"ansiout\">+--------------+--------------------+----------+--------------+--------------------+-----+-----------------+--------------------+--------------------+--------------------+---------------------+--------------------+\n",
       "      category|         description|downloaded|follower_count|           image_src|index|is_image_or_video|         poster_name|       save_location|            tag_list|                title|           unique_id|\n",
       "+--------------+--------------------+----------+--------------+--------------------+-----+-----------------+--------------------+--------------------+--------------------+---------------------+--------------------+\n",
       "event-planning|Το όνομα που επέλ...|         1|             4|https://i.pinimg....| 4387|            image|Manosbojana Katsa...|Local save in /da...|Diy Flowers,Flowe...| Βάπτιση: H παραμυ...|ae5e7377-f1bd-4ac...|\n",
       "    home-decor|Традиционные швед...|         1|          136k|https://i.pinimg....| 6717|            image|PUFIK Interiors &amp;...|Local save in /da...|Scandinavian Cott...|〚 Уютные шведские...|bc5ab9ee-505e-44f...|\n",
       "    home-decor|Традиционные швед...|         1|          136k|https://i.pinimg....| 6717|            image|PUFIK Interiors &amp;...|Local save in /da...|Scandinavian Cott...|〚 Уютные шведские...|bc5ab9ee-505e-44f...|\n",
       "    home-decor|Традиционные швед...|         1|          136k|https://i.pinimg....| 6717|            image|PUFIK Interiors &amp;...|Local save in /da...|Scandinavian Cott...|〚 Уютные шведские...|bc5ab9ee-505e-44f...|\n",
       "event-planning|15.1k Likes, 83 C...|         1|           311|https://i.pinimg....| 4858|            image|      Marie Bradford|Local save in /da...|Diy Birthday Deco...| THE EVENT COLLECT...|58101415-9273-431...|\n",
       "event-planning|Wow your guests! ...|         1|            1k|https://i.pinimg....| 4608|            image|Iconica Design | ...|Local save in /da...|Christmas Party B...| Virtual Baby Show...|d234e56f-5b18-4ef...|\n",
       "    home-decor|6,636 Likes, 141 ...|         1|           394|https://i.pinimg....| 6633|            image|        Sarah Martin|Local save in /da...|Diy Kitchen Cabin...| The Cottage Journ...|d136f6bc-840d-44f...|\n",
       "    home-decor|6,636 Likes, 141 ...|         1|           394|https://i.pinimg....| 6633|            image|        Sarah Martin|Local save in /da...|Diy Kitchen Cabin...| The Cottage Journ...|d136f6bc-840d-44f...|\n",
       "     christmas|Features: Materia...|         1|            5k|https://i.pinimg....| 1706|            image|            Wear24-7|Local save in /da...|Merry Christmas T...| Standing Figurine...|b5c8a1b5-9e90-452...|\n",
       "     christmas|Features: Materia...|         1|            5k|https://i.pinimg....| 1706|            image|            Wear24-7|Local save in /da...|Merry Christmas T...| Standing Figurine...|b5c8a1b5-9e90-452...|\n",
       "+--------------+--------------------+----------+--------------+--------------------+-----+-----------------+--------------------+--------------------+--------------------+---------------------+--------------------+\n",
       "only showing top 10 rows\n",
       "\n",
       "</div>"
      ]
     },
     "metadata": {
      "application/vnd.databricks.v1+output": {
       "addedWidgets": {},
       "arguments": {},
       "data": "<div class=\"ansiout\">+--------------+--------------------+----------+--------------+--------------------+-----+-----------------+--------------------+--------------------+--------------------+---------------------+--------------------+\n|      category|         description|downloaded|follower_count|           image_src|index|is_image_or_video|         poster_name|       save_location|            tag_list|                title|           unique_id|\n+--------------+--------------------+----------+--------------+--------------------+-----+-----------------+--------------------+--------------------+--------------------+---------------------+--------------------+\n|event-planning|Το όνομα που επέλ...|         1|             4|https://i.pinimg....| 4387|            image|Manosbojana Katsa...|Local save in /da...|Diy Flowers,Flowe...| Βάπτιση: H παραμυ...|ae5e7377-f1bd-4ac...|\n|    home-decor|Традиционные швед...|         1|          136k|https://i.pinimg....| 6717|            image|PUFIK Interiors &amp;...|Local save in /da...|Scandinavian Cott...|〚 Уютные шведские...|bc5ab9ee-505e-44f...|\n|    home-decor|Традиционные швед...|         1|          136k|https://i.pinimg....| 6717|            image|PUFIK Interiors &amp;...|Local save in /da...|Scandinavian Cott...|〚 Уютные шведские...|bc5ab9ee-505e-44f...|\n|    home-decor|Традиционные швед...|         1|          136k|https://i.pinimg....| 6717|            image|PUFIK Interiors &amp;...|Local save in /da...|Scandinavian Cott...|〚 Уютные шведские...|bc5ab9ee-505e-44f...|\n|event-planning|15.1k Likes, 83 C...|         1|           311|https://i.pinimg....| 4858|            image|      Marie Bradford|Local save in /da...|Diy Birthday Deco...| THE EVENT COLLECT...|58101415-9273-431...|\n|event-planning|Wow your guests! ...|         1|            1k|https://i.pinimg....| 4608|            image|Iconica Design | ...|Local save in /da...|Christmas Party B...| Virtual Baby Show...|d234e56f-5b18-4ef...|\n|    home-decor|6,636 Likes, 141 ...|         1|           394|https://i.pinimg....| 6633|            image|        Sarah Martin|Local save in /da...|Diy Kitchen Cabin...| The Cottage Journ...|d136f6bc-840d-44f...|\n|    home-decor|6,636 Likes, 141 ...|         1|           394|https://i.pinimg....| 6633|            image|        Sarah Martin|Local save in /da...|Diy Kitchen Cabin...| The Cottage Journ...|d136f6bc-840d-44f...|\n|     christmas|Features: Materia...|         1|            5k|https://i.pinimg....| 1706|            image|            Wear24-7|Local save in /da...|Merry Christmas T...| Standing Figurine...|b5c8a1b5-9e90-452...|\n|     christmas|Features: Materia...|         1|            5k|https://i.pinimg....| 1706|            image|            Wear24-7|Local save in /da...|Merry Christmas T...| Standing Figurine...|b5c8a1b5-9e90-452...|\n+--------------+--------------------+----------+--------------+--------------------+-----+-----------------+--------------------+--------------------+--------------------+---------------------+--------------------+\nonly showing top 10 rows\n\n</div>",
       "datasetInfos": [],
       "metadata": {},
       "removedWidgets": [],
       "type": "html"
      }
     },
     "output_type": "display_data"
    }
   ],
   "source": [
    "# Show Spark dataframe to check its content\n",
    "df_pin.show(10)"
   ]
  },
  {
   "cell_type": "code",
   "execution_count": null,
   "metadata": {
    "application/vnd.databricks.v1+cell": {
     "cellMetadata": {
      "byteLimit": 2048000,
      "rowLimit": 10000
     },
     "inputWidgets": {},
     "nuid": "36028d00-ce59-4ae9-8c44-d41221293c60",
     "showTitle": false,
     "title": ""
    }
   },
   "outputs": [
    {
     "data": {
      "text/html": [
       "<style scoped>\n",
       "  .ansiout {\n",
       "    display: block;\n",
       "    unicode-bidi: embed;\n",
       "    white-space: pre-wrap;\n",
       "    word-wrap: break-word;\n",
       "    word-break: break-all;\n",
       "    font-family: \"Source Code Pro\", \"Menlo\", monospace;;\n",
       "    font-size: 13px;\n",
       "    color: #555;\n",
       "    margin-left: 4px;\n",
       "    line-height: 19px;\n",
       "  }\n",
       "</style>\n",
       "<div class=\"ansiout\">+--------------------+-----+--------+---------+-------------------+\n",
       "             country|  ind|latitude|longitude|          timestamp|\n",
       "+--------------------+-----+--------+---------+-------------------+\n",
       "British Indian Oc...| 9455|-82.9272| -150.346|2022-03-15 01:46:32|\n",
       "British Indian Oc...| 6814|-86.5675| -149.565|2022-09-02 11:34:28|\n",
       "British Indian Oc...| 6814|-86.5675| -149.565|2022-09-02 11:34:28|\n",
       "British Indian Oc...| 5111|-83.7472|  8.65953|2021-04-01 00:56:57|\n",
       "British Indian Oc...| 2989| -87.013|  133.062|2020-01-09 19:18:54|\n",
       "Antarctica (the t...|10073|-32.8885| -170.295|2021-06-29 19:56:04|\n",
       "Antarctica (the t...|10073|-32.8885| -170.295|2021-06-29 19:56:04|\n",
       "Antarctica (the t...| 2418|-88.4642| -171.061|2022-05-27 11:30:59|\n",
       "Antarctica (the t...| 2418|-88.4642| -171.061|2022-05-27 11:30:59|\n",
       "Antarctica (the t...| 5162|-71.6607| -149.206|2019-09-27 19:06:43|\n",
       "+--------------------+-----+--------+---------+-------------------+\n",
       "only showing top 10 rows\n",
       "\n",
       "</div>"
      ]
     },
     "metadata": {
      "application/vnd.databricks.v1+output": {
       "addedWidgets": {},
       "arguments": {},
       "data": "<div class=\"ansiout\">+--------------------+-----+--------+---------+-------------------+\n|             country|  ind|latitude|longitude|          timestamp|\n+--------------------+-----+--------+---------+-------------------+\n|British Indian Oc...| 9455|-82.9272| -150.346|2022-03-15 01:46:32|\n|British Indian Oc...| 6814|-86.5675| -149.565|2022-09-02 11:34:28|\n|British Indian Oc...| 6814|-86.5675| -149.565|2022-09-02 11:34:28|\n|British Indian Oc...| 5111|-83.7472|  8.65953|2021-04-01 00:56:57|\n|British Indian Oc...| 2989| -87.013|  133.062|2020-01-09 19:18:54|\n|Antarctica (the t...|10073|-32.8885| -170.295|2021-06-29 19:56:04|\n|Antarctica (the t...|10073|-32.8885| -170.295|2021-06-29 19:56:04|\n|Antarctica (the t...| 2418|-88.4642| -171.061|2022-05-27 11:30:59|\n|Antarctica (the t...| 2418|-88.4642| -171.061|2022-05-27 11:30:59|\n|Antarctica (the t...| 5162|-71.6607| -149.206|2019-09-27 19:06:43|\n+--------------------+-----+--------+---------+-------------------+\nonly showing top 10 rows\n\n</div>",
       "datasetInfos": [],
       "metadata": {},
       "removedWidgets": [],
       "type": "html"
      }
     },
     "output_type": "display_data"
    }
   ],
   "source": [
    "# Show Spark dataframe to check its content\n",
    "df_geo.show(10)"
   ]
  },
  {
   "cell_type": "code",
   "execution_count": null,
   "metadata": {
    "application/vnd.databricks.v1+cell": {
     "cellMetadata": {
      "byteLimit": 2048000,
      "rowLimit": 10000
     },
     "inputWidgets": {},
     "nuid": "9438ff9b-aa46-49ea-9ea1-b5c020029013",
     "showTitle": false,
     "title": ""
    }
   },
   "outputs": [
    {
     "data": {
      "text/html": [
       "<style scoped>\n",
       "  .ansiout {\n",
       "    display: block;\n",
       "    unicode-bidi: embed;\n",
       "    white-space: pre-wrap;\n",
       "    word-wrap: break-word;\n",
       "    word-break: break-all;\n",
       "    font-family: \"Source Code Pro\", \"Menlo\", monospace;;\n",
       "    font-size: 13px;\n",
       "    color: #555;\n",
       "    margin-left: 4px;\n",
       "    line-height: 19px;\n",
       "  }\n",
       "</style>\n",
       "<div class=\"ansiout\">+---+-------------------+-----------+-----+---------+\n",
       "age|        date_joined| first_name|  ind|last_name|\n",
       "+---+-------------------+-----------+-----+---------+\n",
       " 42|2017-02-18 00:31:22|Christopher| 6353|Hernandez|\n",
       " 27|2016-03-08 13:38:37|Christopher| 2015| Bradshaw|\n",
       " 59|2017-05-12 21:22:17|  Alexander|10673|Cervantes|\n",
       " 48|2016-02-27 16:57:44|Christopher| 1857| Hamilton|\n",
       " 45|2016-09-15 06:02:53|Christopher|10020|  Hawkins|\n",
       " 27|2016-03-08 13:38:37|Christopher| 2015| Bradshaw|\n",
       " 59|2017-05-12 21:22:17|  Alexander|10673|Cervantes|\n",
       " 27|2016-03-08 13:38:37|Christopher| 2015| Bradshaw|\n",
       " 59|2017-05-12 21:22:17|  Alexander|10673|Cervantes|\n",
       " 48|2016-02-27 16:57:44|Christopher| 1857| Hamilton|\n",
       "+---+-------------------+-----------+-----+---------+\n",
       "only showing top 10 rows\n",
       "\n",
       "</div>"
      ]
     },
     "metadata": {
      "application/vnd.databricks.v1+output": {
       "addedWidgets": {},
       "arguments": {},
       "data": "<div class=\"ansiout\">+---+-------------------+-----------+-----+---------+\n|age|        date_joined| first_name|  ind|last_name|\n+---+-------------------+-----------+-----+---------+\n| 42|2017-02-18 00:31:22|Christopher| 6353|Hernandez|\n| 27|2016-03-08 13:38:37|Christopher| 2015| Bradshaw|\n| 59|2017-05-12 21:22:17|  Alexander|10673|Cervantes|\n| 48|2016-02-27 16:57:44|Christopher| 1857| Hamilton|\n| 45|2016-09-15 06:02:53|Christopher|10020|  Hawkins|\n| 27|2016-03-08 13:38:37|Christopher| 2015| Bradshaw|\n| 59|2017-05-12 21:22:17|  Alexander|10673|Cervantes|\n| 27|2016-03-08 13:38:37|Christopher| 2015| Bradshaw|\n| 59|2017-05-12 21:22:17|  Alexander|10673|Cervantes|\n| 48|2016-02-27 16:57:44|Christopher| 1857| Hamilton|\n+---+-------------------+-----------+-----+---------+\nonly showing top 10 rows\n\n</div>",
       "datasetInfos": [],
       "metadata": {},
       "removedWidgets": [],
       "type": "html"
      }
     },
     "output_type": "display_data"
    }
   ],
   "source": [
    "# Show Spark dataframe to check its content\n",
    "df_user.show(10)"
   ]
  },
  {
   "cell_type": "markdown",
   "metadata": {
    "application/vnd.databricks.v1+cell": {
     "cellMetadata": {
      "byteLimit": 2048000,
      "rowLimit": 10000
     },
     "inputWidgets": {},
     "nuid": "1169e26a-bac4-427e-94d0-c5194e10f1ca",
     "showTitle": false,
     "title": ""
    }
   },
   "source": [
    "1) Clean the DataFrame that contains information about Pinterest posts"
   ]
  },
  {
   "cell_type": "code",
   "execution_count": null,
   "metadata": {
    "application/vnd.databricks.v1+cell": {
     "cellMetadata": {
      "byteLimit": 2048000,
      "rowLimit": 10000
     },
     "inputWidgets": {},
     "nuid": "16750e19-75ab-43ea-8179-36a02253befd",
     "showTitle": false,
     "title": ""
    }
   },
   "outputs": [
    {
     "data": {
      "text/html": [
       "<style scoped>\n",
       "  .ansiout {\n",
       "    display: block;\n",
       "    unicode-bidi: embed;\n",
       "    white-space: pre-wrap;\n",
       "    word-wrap: break-word;\n",
       "    word-break: break-all;\n",
       "    font-family: \"Source Code Pro\", \"Menlo\", monospace;;\n",
       "    font-size: 13px;\n",
       "    color: #555;\n",
       "    margin-left: 4px;\n",
       "    line-height: 19px;\n",
       "  }\n",
       "</style>\n",
       "<div class=\"ansiout\">+----+--------------------+---------------------+--------------------+--------------+--------------------+--------------------+-----------------+--------------------+--------------------+--------------+\n",
       " ind|           unique_id|                title|         description|follower_count|         poster_name|            tag_list|is_image_or_video|           image_src|       save_location|      category|\n",
       "+----+--------------------+---------------------+--------------------+--------------+--------------------+--------------------+-----------------+--------------------+--------------------+--------------+\n",
       "4387|ae5e7377-f1bd-4ac...| Βάπτιση: H παραμυ...|Το όνομα που επέλ...|             4|Manosbojana Katsa...|Diy Flowers,Flowe...|            image|https://i.pinimg....|/data/event-planning|event-planning|\n",
       "6717|bc5ab9ee-505e-44f...|〚 Уютные шведские...|Традиционные швед...|        136000|PUFIK Interiors &amp;...|Scandinavian Cott...|            image|https://i.pinimg....|    /data/home-decor|    home-decor|\n",
       "6717|bc5ab9ee-505e-44f...|〚 Уютные шведские...|Традиционные швед...|        136000|PUFIK Interiors &amp;...|Scandinavian Cott...|            image|https://i.pinimg....|    /data/home-decor|    home-decor|\n",
       "6717|bc5ab9ee-505e-44f...|〚 Уютные шведские...|Традиционные швед...|        136000|PUFIK Interiors &amp;...|Scandinavian Cott...|            image|https://i.pinimg....|    /data/home-decor|    home-decor|\n",
       "4858|58101415-9273-431...| THE EVENT COLLECT...|15.1k Likes, 83 C...|           311|      Marie Bradford|Diy Birthday Deco...|            image|https://i.pinimg....|/data/event-planning|event-planning|\n",
       "4608|d234e56f-5b18-4ef...| Virtual Baby Show...|Wow your guests! ...|          1000|Iconica Design | ...|Christmas Party B...|            image|https://i.pinimg....|/data/event-planning|event-planning|\n",
       "6633|d136f6bc-840d-44f...| The Cottage Journ...|6,636 Likes, 141 ...|           394|        Sarah Martin|Diy Kitchen Cabin...|            image|https://i.pinimg....|    /data/home-decor|    home-decor|\n",
       "6633|d136f6bc-840d-44f...| The Cottage Journ...|6,636 Likes, 141 ...|           394|        Sarah Martin|Diy Kitchen Cabin...|            image|https://i.pinimg....|    /data/home-decor|    home-decor|\n",
       "1706|b5c8a1b5-9e90-452...| Standing Figurine...|Features: Materia...|          5000|            Wear24-7|Merry Christmas T...|            image|https://i.pinimg....|     /data/christmas|     christmas|\n",
       "1706|b5c8a1b5-9e90-452...| Standing Figurine...|Features: Materia...|          5000|            Wear24-7|Merry Christmas T...|            image|https://i.pinimg....|     /data/christmas|     christmas|\n",
       "+----+--------------------+---------------------+--------------------+--------------+--------------------+--------------------+-----------------+--------------------+--------------------+--------------+\n",
       "only showing top 10 rows\n",
       "\n",
       "</div>"
      ]
     },
     "metadata": {
      "application/vnd.databricks.v1+output": {
       "addedWidgets": {},
       "arguments": {},
       "data": "<div class=\"ansiout\">+----+--------------------+---------------------+--------------------+--------------+--------------------+--------------------+-----------------+--------------------+--------------------+--------------+\n| ind|           unique_id|                title|         description|follower_count|         poster_name|            tag_list|is_image_or_video|           image_src|       save_location|      category|\n+----+--------------------+---------------------+--------------------+--------------+--------------------+--------------------+-----------------+--------------------+--------------------+--------------+\n|4387|ae5e7377-f1bd-4ac...| Βάπτιση: H παραμυ...|Το όνομα που επέλ...|             4|Manosbojana Katsa...|Diy Flowers,Flowe...|            image|https://i.pinimg....|/data/event-planning|event-planning|\n|6717|bc5ab9ee-505e-44f...|〚 Уютные шведские...|Традиционные швед...|        136000|PUFIK Interiors &amp;...|Scandinavian Cott...|            image|https://i.pinimg....|    /data/home-decor|    home-decor|\n|6717|bc5ab9ee-505e-44f...|〚 Уютные шведские...|Традиционные швед...|        136000|PUFIK Interiors &amp;...|Scandinavian Cott...|            image|https://i.pinimg....|    /data/home-decor|    home-decor|\n|6717|bc5ab9ee-505e-44f...|〚 Уютные шведские...|Традиционные швед...|        136000|PUFIK Interiors &amp;...|Scandinavian Cott...|            image|https://i.pinimg....|    /data/home-decor|    home-decor|\n|4858|58101415-9273-431...| THE EVENT COLLECT...|15.1k Likes, 83 C...|           311|      Marie Bradford|Diy Birthday Deco...|            image|https://i.pinimg....|/data/event-planning|event-planning|\n|4608|d234e56f-5b18-4ef...| Virtual Baby Show...|Wow your guests! ...|          1000|Iconica Design | ...|Christmas Party B...|            image|https://i.pinimg....|/data/event-planning|event-planning|\n|6633|d136f6bc-840d-44f...| The Cottage Journ...|6,636 Likes, 141 ...|           394|        Sarah Martin|Diy Kitchen Cabin...|            image|https://i.pinimg....|    /data/home-decor|    home-decor|\n|6633|d136f6bc-840d-44f...| The Cottage Journ...|6,636 Likes, 141 ...|           394|        Sarah Martin|Diy Kitchen Cabin...|            image|https://i.pinimg....|    /data/home-decor|    home-decor|\n|1706|b5c8a1b5-9e90-452...| Standing Figurine...|Features: Materia...|          5000|            Wear24-7|Merry Christmas T...|            image|https://i.pinimg....|     /data/christmas|     christmas|\n|1706|b5c8a1b5-9e90-452...| Standing Figurine...|Features: Materia...|          5000|            Wear24-7|Merry Christmas T...|            image|https://i.pinimg....|     /data/christmas|     christmas|\n+----+--------------------+---------------------+--------------------+--------------+--------------------+--------------------+-----------------+--------------------+--------------------+--------------+\nonly showing top 10 rows\n\n</div>",
       "datasetInfos": [],
       "metadata": {},
       "removedWidgets": [],
       "type": "html"
      }
     },
     "output_type": "display_data"
    }
   ],
   "source": [
    "def clean_df_pin(df):\n",
    "    '''\n",
    "    Parameters\n",
    "    ----------\n",
    "    df:\n",
    "        Dataframe containing relevant information\n",
    "    \n",
    "    Returns\n",
    "    -------\n",
    "    df_cleaned:\n",
    "        Cleaned version of dataframe  \n",
    "    '''\n",
    "    # Replace empty entries and entries with no relevant data in each column with Nones\n",
    "    df = df.select([when(col(c) == \"\", None).otherwise(col(c)).alias(c) for c in df.columns])\n",
    "\n",
    "    df = df.withColumn(\"follower_count\", when(df.follower_count.contains(\"User Info Error\"), 0).otherwise(df.follower_count))\n",
    "\n",
    "    df = df.withColumn(\"poster_name\", when(df.poster_name.contains(\"User Info Error\"), None).otherwise(df.poster_name))\n",
    "\n",
    "    df = df.select([when(col(c).contains(\"N,o, ,T,a,g,s, ,A,v,a,i,l,a,b,l,e\"), None).otherwise(col(c)).alias(c) for c in df.columns])\n",
    "\n",
    "    df = df.select([when(col(c).contains(\"Image src error\"), None).otherwise(col(c)).alias(c) for c in df.columns])\n",
    "\n",
    "    df = df.select([when(col(c).contains(\"No description\"), None).otherwise(col(c)).alias(c) for c in df.columns])\n",
    "\n",
    "    df = df.select([when(col(c).contains(\"Untitled\"), None).otherwise(col(c)).alias(c) for c in df.columns])\n",
    "\n",
    "    df = df.select([when(col(c).contains(\"No Title Data Available\"), None).otherwise(col(c)).alias(c) for c in df.columns])\n",
    "\n",
    "    # Ensure that each column containing numeric data has a numeric data type\n",
    "    df = df.withColumn('follower_count', when(df.follower_count.endswith('k'), regexp_replace(df.follower_count, 'k', '000')) \\\n",
    "        .when(df.follower_count.endswith('M'), regexp_replace(df.follower_count, 'M', '000000')) \\\n",
    "        .otherwise(df.follower_count))\n",
    "\n",
    "    # change the datatype of the \"follower_count\" column to int\n",
    "    df = df.withColumn(\"follower_count\", df.follower_count.cast('int'))\n",
    "\n",
    "    # Clean the data in the save_location column to include only the save location path\n",
    "    df = df.withColumn('save_location', when(df.save_location.startswith('Local save in '), regexp_replace(df.save_location, 'Local save in ', '')))\n",
    "\n",
    "    # Rename the index column to ind\n",
    "    df = df.withColumnRenamed('index', 'ind')\n",
    "\n",
    "    # Reorder the DataFrame columns\n",
    "    df_cleaned = df.select(\"ind\", \"unique_id\", \"title\", \"description\", \"follower_count\", \"poster_name\", \"tag_list\", \"is_image_or_video\", \"image_src\", \"save_location\", \"category\")\n",
    "\n",
    "    return df_cleaned\n",
    "\n",
    "df_pin_cleaned = clean_df_pin(df_pin)\n",
    "df_pin_cleaned.show(10)"
   ]
  },
  {
   "cell_type": "markdown",
   "metadata": {
    "application/vnd.databricks.v1+cell": {
     "cellMetadata": {
      "byteLimit": 2048000,
      "rowLimit": 10000
     },
     "inputWidgets": {},
     "nuid": "08bfad80-477f-4cac-a6aa-eb440d3f9356",
     "showTitle": false,
     "title": ""
    }
   },
   "source": [
    "2) Clean the DataFrame that contains information about geolocation"
   ]
  },
  {
   "cell_type": "code",
   "execution_count": null,
   "metadata": {
    "application/vnd.databricks.v1+cell": {
     "cellMetadata": {
      "byteLimit": 2048000,
      "rowLimit": 10000
     },
     "inputWidgets": {},
     "nuid": "0147d93a-a7f8-4c8e-ba76-201418373e94",
     "showTitle": false,
     "title": ""
    }
   },
   "outputs": [
    {
     "data": {
      "text/html": [
       "<style scoped>\n",
       "  .ansiout {\n",
       "    display: block;\n",
       "    unicode-bidi: embed;\n",
       "    white-space: pre-wrap;\n",
       "    word-wrap: break-word;\n",
       "    word-break: break-all;\n",
       "    font-family: \"Source Code Pro\", \"Menlo\", monospace;;\n",
       "    font-size: 13px;\n",
       "    color: #555;\n",
       "    margin-left: 4px;\n",
       "    line-height: 19px;\n",
       "  }\n",
       "</style>\n",
       "<div class=\"ansiout\">+-----+--------------------+--------------------+-------------------+\n",
       "  ind|             country|         coordinates|          timestamp|\n",
       "+-----+--------------------+--------------------+-------------------+\n",
       " 9455|British Indian Oc...|[-82.9272, -150.346]|2022-03-15 01:46:32|\n",
       " 6814|British Indian Oc...|[-86.5675, -149.565]|2022-09-02 11:34:28|\n",
       " 6814|British Indian Oc...|[-86.5675, -149.565]|2022-09-02 11:34:28|\n",
       " 5111|British Indian Oc...| [-83.7472, 8.65953]|2021-04-01 00:56:57|\n",
       " 2989|British Indian Oc...|  [-87.013, 133.062]|2020-01-09 19:18:54|\n",
       "10073|Antarctica (the t...|[-32.8885, -170.295]|2021-06-29 19:56:04|\n",
       "10073|Antarctica (the t...|[-32.8885, -170.295]|2021-06-29 19:56:04|\n",
       " 2418|Antarctica (the t...|[-88.4642, -171.061]|2022-05-27 11:30:59|\n",
       " 2418|Antarctica (the t...|[-88.4642, -171.061]|2022-05-27 11:30:59|\n",
       " 5162|Antarctica (the t...|[-71.6607, -149.206]|2019-09-27 19:06:43|\n",
       "+-----+--------------------+--------------------+-------------------+\n",
       "only showing top 10 rows\n",
       "\n",
       "</div>"
      ]
     },
     "metadata": {
      "application/vnd.databricks.v1+output": {
       "addedWidgets": {},
       "arguments": {},
       "data": "<div class=\"ansiout\">+-----+--------------------+--------------------+-------------------+\n|  ind|             country|         coordinates|          timestamp|\n+-----+--------------------+--------------------+-------------------+\n| 9455|British Indian Oc...|[-82.9272, -150.346]|2022-03-15 01:46:32|\n| 6814|British Indian Oc...|[-86.5675, -149.565]|2022-09-02 11:34:28|\n| 6814|British Indian Oc...|[-86.5675, -149.565]|2022-09-02 11:34:28|\n| 5111|British Indian Oc...| [-83.7472, 8.65953]|2021-04-01 00:56:57|\n| 2989|British Indian Oc...|  [-87.013, 133.062]|2020-01-09 19:18:54|\n|10073|Antarctica (the t...|[-32.8885, -170.295]|2021-06-29 19:56:04|\n|10073|Antarctica (the t...|[-32.8885, -170.295]|2021-06-29 19:56:04|\n| 2418|Antarctica (the t...|[-88.4642, -171.061]|2022-05-27 11:30:59|\n| 2418|Antarctica (the t...|[-88.4642, -171.061]|2022-05-27 11:30:59|\n| 5162|Antarctica (the t...|[-71.6607, -149.206]|2019-09-27 19:06:43|\n+-----+--------------------+--------------------+-------------------+\nonly showing top 10 rows\n\n</div>",
       "datasetInfos": [],
       "metadata": {},
       "removedWidgets": [],
       "type": "html"
      }
     },
     "output_type": "display_data"
    }
   ],
   "source": [
    "def clean_df_geo(df):\n",
    "    '''\n",
    "    Parameters\n",
    "    ----------\n",
    "    df:\n",
    "        Dataframe containing relevant information\n",
    "    \n",
    "    Returns\n",
    "    -------\n",
    "    df_cleaned:\n",
    "        Cleaned version of dataframe  \n",
    "    '''\n",
    "    # Create a new column coordinates that contains an array based on the latitude and longitude columns\n",
    "    # Drop the latitude and longitude columns from the DataFrame\n",
    "    # Reorder the DataFrame columns\n",
    "    df = df.withColumn(\"coordinates\", array(\"latitude\", \"longitude\")) \\\n",
    "    .select(\"ind\", \"country\", \"coordinates\", \"timestamp\")\n",
    "\n",
    "    # Convert the timestamp column from a string to a timestamp data type\n",
    "    df_cleaned = df.withColumn(\"timestamp\", to_timestamp(\"timestamp\"))\n",
    "\n",
    "    return df_cleaned\n",
    "\n",
    "df_geo_cleaned = clean_df_geo(df_geo)\n",
    "df_geo_cleaned.show(10)"
   ]
  },
  {
   "cell_type": "markdown",
   "metadata": {
    "application/vnd.databricks.v1+cell": {
     "cellMetadata": {
      "byteLimit": 2048000,
      "rowLimit": 10000
     },
     "inputWidgets": {},
     "nuid": "43b44654-772e-42d7-bb1a-1acf8435ff02",
     "showTitle": false,
     "title": ""
    }
   },
   "source": [
    "3) Clean the DataFrame that contains information about users"
   ]
  },
  {
   "cell_type": "code",
   "execution_count": null,
   "metadata": {
    "application/vnd.databricks.v1+cell": {
     "cellMetadata": {
      "byteLimit": 2048000,
      "rowLimit": 10000
     },
     "inputWidgets": {},
     "nuid": "1502658d-ae0e-430b-b71a-23b3987cf6a6",
     "showTitle": false,
     "title": ""
    }
   },
   "outputs": [
    {
     "data": {
      "text/html": [
       "<style scoped>\n",
       "  .ansiout {\n",
       "    display: block;\n",
       "    unicode-bidi: embed;\n",
       "    white-space: pre-wrap;\n",
       "    word-wrap: break-word;\n",
       "    word-break: break-all;\n",
       "    font-family: \"Source Code Pro\", \"Menlo\", monospace;;\n",
       "    font-size: 13px;\n",
       "    color: #555;\n",
       "    margin-left: 4px;\n",
       "    line-height: 19px;\n",
       "  }\n",
       "</style>\n",
       "<div class=\"ansiout\">+-----+--------------------+---+-------------------+\n",
       "  ind|           user_name|age|        date_joined|\n",
       "+-----+--------------------+---+-------------------+\n",
       " 6353|ChristopherHernandez| 42|2017-02-18 00:31:22|\n",
       " 2015| ChristopherBradshaw| 27|2016-03-08 13:38:37|\n",
       "10673|  AlexanderCervantes| 59|2017-05-12 21:22:17|\n",
       " 1857| ChristopherHamilton| 48|2016-02-27 16:57:44|\n",
       "10020|  ChristopherHawkins| 45|2016-09-15 06:02:53|\n",
       " 2015| ChristopherBradshaw| 27|2016-03-08 13:38:37|\n",
       "10673|  AlexanderCervantes| 59|2017-05-12 21:22:17|\n",
       " 2015| ChristopherBradshaw| 27|2016-03-08 13:38:37|\n",
       "10673|  AlexanderCervantes| 59|2017-05-12 21:22:17|\n",
       " 1857| ChristopherHamilton| 48|2016-02-27 16:57:44|\n",
       "+-----+--------------------+---+-------------------+\n",
       "only showing top 10 rows\n",
       "\n",
       "</div>"
      ]
     },
     "metadata": {
      "application/vnd.databricks.v1+output": {
       "addedWidgets": {},
       "arguments": {},
       "data": "<div class=\"ansiout\">+-----+--------------------+---+-------------------+\n|  ind|           user_name|age|        date_joined|\n+-----+--------------------+---+-------------------+\n| 6353|ChristopherHernandez| 42|2017-02-18 00:31:22|\n| 2015| ChristopherBradshaw| 27|2016-03-08 13:38:37|\n|10673|  AlexanderCervantes| 59|2017-05-12 21:22:17|\n| 1857| ChristopherHamilton| 48|2016-02-27 16:57:44|\n|10020|  ChristopherHawkins| 45|2016-09-15 06:02:53|\n| 2015| ChristopherBradshaw| 27|2016-03-08 13:38:37|\n|10673|  AlexanderCervantes| 59|2017-05-12 21:22:17|\n| 2015| ChristopherBradshaw| 27|2016-03-08 13:38:37|\n|10673|  AlexanderCervantes| 59|2017-05-12 21:22:17|\n| 1857| ChristopherHamilton| 48|2016-02-27 16:57:44|\n+-----+--------------------+---+-------------------+\nonly showing top 10 rows\n\n</div>",
       "datasetInfos": [],
       "metadata": {},
       "removedWidgets": [],
       "type": "html"
      }
     },
     "output_type": "display_data"
    }
   ],
   "source": [
    "def clean_df_user(df):\n",
    "    '''\n",
    "    Parameters\n",
    "    ----------\n",
    "    df:\n",
    "        Dataframe containing relevant information\n",
    "    \n",
    "    Returns\n",
    "    -------\n",
    "    df_user_cleaned:\n",
    "        Cleaned version of dataframe  \n",
    "    '''\n",
    "    # Create a new column user_name that concatenates the information found in the first_name and last_name columns\n",
    "    # Drop the first_name and last_name columns from the DataFrame by not selecting them\n",
    "    df = df.withColumn(\"user_name\", concat(\"first_name\", \"last_name\")) \\\n",
    "        .select(\"age\", \"date_joined\", \"ind\", \"user_name\")\n",
    "\n",
    "    # Convert the date_joined column from a string to a timestamp data type\n",
    "    # Reorder the DataFrame columns\n",
    "    df_cleaned = df.withColumn(\"date_joined\", to_timestamp(\"date_joined\")) \\\n",
    "        .select(\"ind\", \"user_name\", \"age\", \"date_joined\")\n",
    "    \n",
    "    return df_cleaned\n",
    "\n",
    "df_user_cleaned = clean_df_user(df_user)\n",
    "df_user_cleaned.show(10)"
   ]
  },
  {
   "cell_type": "markdown",
   "metadata": {
    "application/vnd.databricks.v1+cell": {
     "cellMetadata": {
      "byteLimit": 2048000,
      "rowLimit": 10000
     },
     "inputWidgets": {},
     "nuid": "1ef3f267-b45f-4475-be8b-c9737f346eb1",
     "showTitle": false,
     "title": ""
    }
   },
   "source": [
    "Creating functions to avoid repetition of code"
   ]
  },
  {
   "cell_type": "code",
   "execution_count": null,
   "metadata": {
    "application/vnd.databricks.v1+cell": {
     "cellMetadata": {
      "byteLimit": 2048000,
      "rowLimit": 10000
     },
     "inputWidgets": {},
     "nuid": "74840be6-1040-4061-845c-beeed3a8775f",
     "showTitle": false,
     "title": ""
    }
   },
   "outputs": [
    {
     "data": {
      "text/html": [
       "<style scoped>\n",
       "  .ansiout {\n",
       "    display: block;\n",
       "    unicode-bidi: embed;\n",
       "    white-space: pre-wrap;\n",
       "    word-wrap: break-word;\n",
       "    word-break: break-all;\n",
       "    font-family: \"Source Code Pro\", \"Menlo\", monospace;;\n",
       "    font-size: 13px;\n",
       "    color: #555;\n",
       "    margin-left: 4px;\n",
       "    line-height: 19px;\n",
       "  }\n",
       "</style>\n",
       "<div class=\"ansiout\"></div>"
      ]
     },
     "metadata": {
      "application/vnd.databricks.v1+output": {
       "addedWidgets": {},
       "arguments": {},
       "data": "<div class=\"ansiout\"></div>",
       "datasetInfos": [],
       "metadata": {},
       "removedWidgets": [],
       "type": "html"
      }
     },
     "output_type": "display_data"
    }
   ],
   "source": [
    "def join_df(df1, df2):\n",
    "    '''\n",
    "    Parameters\n",
    "    ----------\n",
    "    df1: \n",
    "        A dataframe to be joined\n",
    "    df2:\n",
    "        A dataframe to be joined\n",
    "    \n",
    "    Returns\n",
    "    -------\n",
    "    joined_df:\n",
    "        A dataframe created by joining df1 and df2 on the ind column\n",
    "    '''\n",
    "    joined_df = df1.join(df2, on = \"ind\")\n",
    "    return joined_df\n",
    "\n",
    "def create_age_groups(df):\n",
    "    '''\n",
    "    Parameters\n",
    "    ----------\n",
    "    df:\n",
    "        Dataframe that an age_group column will be added to\n",
    "\n",
    "    Returns\n",
    "    -------\n",
    "    df: \n",
    "        Dataframe containing the newly added age_group column\n",
    "    '''\n",
    "    df = df.withColumn(\"age_group\",\n",
    "                       when(df.age.between(18, 24), \"18-24\")\n",
    "                        .when(df_user_cleaned.age.between(25, 35), \"25-35\")\n",
    "                        .when(df_user_cleaned.age.between(36, 50), \"36-50\")\n",
    "                        .when(df_user_cleaned.age > 50, \"50+\"))\n",
    "    return df"
   ]
  },
  {
   "cell_type": "markdown",
   "metadata": {
    "application/vnd.databricks.v1+cell": {
     "cellMetadata": {
      "byteLimit": 2048000,
      "rowLimit": 10000
     },
     "inputWidgets": {},
     "nuid": "801d116d-fa2a-49da-86a3-9d7b4ab76dfd",
     "showTitle": false,
     "title": ""
    }
   },
   "source": [
    "Registering the dataframes as TemporaryViews in order to run SQL queries against them"
   ]
  },
  {
   "cell_type": "code",
   "execution_count": null,
   "metadata": {
    "application/vnd.databricks.v1+cell": {
     "cellMetadata": {
      "byteLimit": 2048000,
      "rowLimit": 10000
     },
     "inputWidgets": {},
     "nuid": "eb9b5a04-11c3-4aa2-adc9-cb267271bd5e",
     "showTitle": false,
     "title": ""
    }
   },
   "outputs": [
    {
     "data": {
      "text/html": [
       "<style scoped>\n",
       "  .ansiout {\n",
       "    display: block;\n",
       "    unicode-bidi: embed;\n",
       "    white-space: pre-wrap;\n",
       "    word-wrap: break-word;\n",
       "    word-break: break-all;\n",
       "    font-family: \"Source Code Pro\", \"Menlo\", monospace;;\n",
       "    font-size: 13px;\n",
       "    color: #555;\n",
       "    margin-left: 4px;\n",
       "    line-height: 19px;\n",
       "  }\n",
       "</style>\n",
       "<div class=\"ansiout\"></div>"
      ]
     },
     "metadata": {
      "application/vnd.databricks.v1+output": {
       "addedWidgets": {},
       "arguments": {},
       "data": "<div class=\"ansiout\"></div>",
       "datasetInfos": [],
       "metadata": {},
       "removedWidgets": [],
       "type": "html"
      }
     },
     "output_type": "display_data"
    }
   ],
   "source": [
    "df_pin_cleaned.createOrReplaceTempView(\"PIN\")\n",
    "df_geo_cleaned.createOrReplaceTempView(\"GEO\")\n",
    "df_user_cleaned.createOrReplaceTempView(\"USER\")"
   ]
  },
  {
   "cell_type": "markdown",
   "metadata": {
    "application/vnd.databricks.v1+cell": {
     "cellMetadata": {
      "byteLimit": 2048000,
      "rowLimit": 10000
     },
     "inputWidgets": {},
     "nuid": "f2637178-22e4-49cb-937b-8fa5b3e4a712",
     "showTitle": false,
     "title": ""
    }
   },
   "source": [
    "4) Find the most popular category in each country"
   ]
  },
  {
   "cell_type": "code",
   "execution_count": null,
   "metadata": {
    "application/vnd.databricks.v1+cell": {
     "cellMetadata": {
      "byteLimit": 2048000,
      "rowLimit": 10000
     },
     "inputWidgets": {},
     "nuid": "78f16109-6486-4c4d-b88f-ad508e76462d",
     "showTitle": false,
     "title": ""
    }
   },
   "outputs": [
    {
     "data": {
      "text/html": [
       "<style scoped>\n",
       "  .ansiout {\n",
       "    display: block;\n",
       "    unicode-bidi: embed;\n",
       "    white-space: pre-wrap;\n",
       "    word-wrap: break-word;\n",
       "    word-break: break-all;\n",
       "    font-family: \"Source Code Pro\", \"Menlo\", monospace;;\n",
       "    font-size: 13px;\n",
       "    color: #555;\n",
       "    margin-left: 4px;\n",
       "    line-height: 19px;\n",
       "  }\n",
       "</style>\n",
       "<div class=\"ansiout\">+--------------------+--------------+--------------+\n",
       "             country|      category|category_count|\n",
       "+--------------------+--------------+--------------+\n",
       "         Afghanistan|     education|            60|\n",
       "             Albania|  mens-fashion|            91|\n",
       "             Algeria|        quotes|           115|\n",
       "      American Samoa|     education|            46|\n",
       "             Andorra|       tattoos|            34|\n",
       "              Angola|diy-and-crafts|            36|\n",
       "            Anguilla|    home-decor|            38|\n",
       "Antarctica (the t...|     christmas|            35|\n",
       " Antigua and Barbuda|           art|            46|\n",
       "           Argentina|       tattoos|            63|\n",
       "             Armenia|diy-and-crafts|            85|\n",
       "               Aruba|       tattoos|            66|\n",
       "           Australia|  mens-fashion|            51|\n",
       "             Austria|        travel|            66|\n",
       "          Azerbaijan|       finance|            42|\n",
       "             Bahamas|           art|            19|\n",
       "             Bahrain|       finance|            19|\n",
       "          Bangladesh|           art|            39|\n",
       "            Barbados|        travel|            46|\n",
       "             Belarus|        travel|             5|\n",
       "+--------------------+--------------+--------------+\n",
       "only showing top 20 rows\n",
       "\n",
       "</div>"
      ]
     },
     "metadata": {
      "application/vnd.databricks.v1+output": {
       "addedWidgets": {},
       "arguments": {},
       "data": "<div class=\"ansiout\">+--------------------+--------------+--------------+\n|             country|      category|category_count|\n+--------------------+--------------+--------------+\n|         Afghanistan|     education|            60|\n|             Albania|  mens-fashion|            91|\n|             Algeria|        quotes|           115|\n|      American Samoa|     education|            46|\n|             Andorra|       tattoos|            34|\n|              Angola|diy-and-crafts|            36|\n|            Anguilla|    home-decor|            38|\n|Antarctica (the t...|     christmas|            35|\n| Antigua and Barbuda|           art|            46|\n|           Argentina|       tattoos|            63|\n|             Armenia|diy-and-crafts|            85|\n|               Aruba|       tattoos|            66|\n|           Australia|  mens-fashion|            51|\n|             Austria|        travel|            66|\n|          Azerbaijan|       finance|            42|\n|             Bahamas|           art|            19|\n|             Bahrain|       finance|            19|\n|          Bangladesh|           art|            39|\n|            Barbados|        travel|            46|\n|             Belarus|        travel|             5|\n+--------------------+--------------+--------------+\nonly showing top 20 rows\n\n</div>",
       "datasetInfos": [],
       "metadata": {},
       "removedWidgets": [],
       "type": "html"
      }
     },
     "output_type": "display_data"
    }
   ],
   "source": [
    "df_most_popular_cat_by_country = join_df(df_pin_cleaned, df_geo_cleaned)\n",
    "df_most_popular_cat_by_country = df_most_popular_cat_by_country.groupBy('country', 'category') \\\n",
    "        .agg(count('*').alias('count')) \\\n",
    "            .groupBy('country') \\\n",
    "                .agg(max(struct('count', 'category')).alias('max_count')) \\\n",
    "                    .select('country', 'max_count.category', 'max_count.count') \\\n",
    "                        .withColumnRenamed(\"count\", \"category_count\")\n",
    "\n",
    "df_most_popular_cat_by_country.show()"
   ]
  },
  {
   "cell_type": "markdown",
   "metadata": {
    "application/vnd.databricks.v1+cell": {
     "cellMetadata": {
      "byteLimit": 2048000,
      "rowLimit": 10000
     },
     "inputWidgets": {},
     "nuid": "9c202b44-18b2-4fea-8d4b-417b0b05ff35",
     "showTitle": false,
     "title": ""
    }
   },
   "source": [
    "Here, I've joined the pin and geolocation dataframes, calling the joined dataframe 'df_most_popular_cat_by_country'. I've then grouped the dataframe by the 'country' and 'category' columns, followed by adding an aggregate function that counts the total number of entries and calling it 'count'. Then, I've created a struct column from the 'category' and 'count' columns and applied the max() function to the struct column to return the maximum count for each category, calling the struct 'max_count'; then, I've grouped the dataframe by the country column. Finally, I've selected the 'country', 'max_country.category' and 'max_country.count' columns, renaming the final column as 'category_count'"
   ]
  },
  {
   "cell_type": "markdown",
   "metadata": {
    "application/vnd.databricks.v1+cell": {
     "cellMetadata": {
      "byteLimit": 2048000,
      "rowLimit": 10000
     },
     "inputWidgets": {},
     "nuid": "fffecf49-3833-4d3e-b859-1e6b02ad443c",
     "showTitle": false,
     "title": ""
    }
   },
   "source": [
    "5) Find which was the most popular category each year"
   ]
  },
  {
   "cell_type": "code",
   "execution_count": null,
   "metadata": {
    "application/vnd.databricks.v1+cell": {
     "cellMetadata": {
      "byteLimit": 2048000,
      "rowLimit": 10000
     },
     "inputWidgets": {},
     "nuid": "8709b46f-2f07-428e-8c73-5acb2ee80671",
     "showTitle": false,
     "title": ""
    }
   },
   "outputs": [
    {
     "data": {
      "text/html": [
       "<style scoped>\n",
       "  .ansiout {\n",
       "    display: block;\n",
       "    unicode-bidi: embed;\n",
       "    white-space: pre-wrap;\n",
       "    word-wrap: break-word;\n",
       "    word-break: break-all;\n",
       "    font-family: \"Source Code Pro\", \"Menlo\", monospace;;\n",
       "    font-size: 13px;\n",
       "    color: #555;\n",
       "    margin-left: 4px;\n",
       "    line-height: 19px;\n",
       "  }\n",
       "</style>\n",
       "<div class=\"ansiout\">+---------+---------+--------------+\n",
       "post_year| category|category_count|\n",
       "+---------+---------+--------------+\n",
       "     2018|   travel|           178|\n",
       "     2019|education|           167|\n",
       "     2020|      art|           187|\n",
       "     2021|  tattoos|           182|\n",
       "     2022|christmas|           170|\n",
       "+---------+---------+--------------+\n",
       "\n",
       "</div>"
      ]
     },
     "metadata": {
      "application/vnd.databricks.v1+output": {
       "addedWidgets": {},
       "arguments": {},
       "data": "<div class=\"ansiout\">+---------+---------+--------------+\n|post_year| category|category_count|\n+---------+---------+--------------+\n|     2018|   travel|           178|\n|     2019|education|           167|\n|     2020|      art|           187|\n|     2021|  tattoos|           182|\n|     2022|christmas|           170|\n+---------+---------+--------------+\n\n</div>",
       "datasetInfos": [],
       "metadata": {},
       "removedWidgets": [],
       "type": "html"
      }
     },
     "output_type": "display_data"
    }
   ],
   "source": [
    "df_most_popular_category_by_year = join_df(df_pin_cleaned, df_geo_cleaned)\n",
    "df_most_popular_category_by_year = df_most_popular_category_by_year.filter((year('timestamp') >= 2018) & (year('timestamp') <= 2022))\n",
    "df_most_popular_category_by_year = df_most_popular_category_by_year.groupBy(year('timestamp').alias('post_year'), 'category') \\\n",
    "    .agg(count('*').alias('category_count'))\n",
    "\n",
    "df_most_popular_category_by_year = df_most_popular_category_by_year.orderBy(['post_year', 'category_count'], ascending = [True, False]) \\\n",
    "    .groupBy('post_year') \\\n",
    "        .agg({'category': 'first', 'category_count': 'first'}) \\\n",
    "            .select('post_year', 'first(category)', 'first(category_count)') \\\n",
    "                .withColumnRenamed('first(category)', 'category') \\\n",
    "                    .withColumnRenamed('first(category_count)', 'category_count')\n",
    "\n",
    "df_most_popular_category_by_year.show()"
   ]
  },
  {
   "cell_type": "markdown",
   "metadata": {
    "application/vnd.databricks.v1+cell": {
     "cellMetadata": {
      "byteLimit": 2048000,
      "rowLimit": 10000
     },
     "inputWidgets": {},
     "nuid": "17c56bb3-feb5-4ed8-bf4d-40e74c515113",
     "showTitle": false,
     "title": ""
    }
   },
   "source": [
    "Here, I've firstly joined the pin and geolocation dataframes, calling the resulting dataframe 'df_most_popular_category_by_year'. I've then filtered the dataframe to only return values where the year is between 2018 and 2022. I've then grouped the dataframe by the 'post_year' (renamed year('timestamp') column) and 'category' columns, adding a count() aggregate function that counts the total number of entries corresponding to each year and category respectively, naming it 'category_count'."
   ]
  },
  {
   "cell_type": "markdown",
   "metadata": {
    "application/vnd.databricks.v1+cell": {
     "cellMetadata": {
      "byteLimit": 2048000,
      "rowLimit": 10000
     },
     "inputWidgets": {},
     "nuid": "60d6eae4-0482-4db8-b07f-0f771e235f3f",
     "showTitle": false,
     "title": ""
    }
   },
   "source": [
    "Next, I've ordered the dataframe by the 'post_name' and 'category_count' values, with the former appearing in asending order and the latter column appearing in descending order; I've then grouped the dataframe by the 'post_year' column and created another aggregate function whereby the first elements in both the 'category' and 'category_count' columns are selected. Finally, I selected the 'post_year' column as well as the first elements of both the 'category' and 'category_count' columns for each post year."
   ]
  },
  {
   "cell_type": "markdown",
   "metadata": {
    "application/vnd.databricks.v1+cell": {
     "cellMetadata": {
      "byteLimit": 2048000,
      "rowLimit": 10000
     },
     "inputWidgets": {},
     "nuid": "12be9e39-8125-464f-8580-b63268701487",
     "showTitle": false,
     "title": ""
    }
   },
   "source": [
    "6) Find the user with most followers in each country"
   ]
  },
  {
   "cell_type": "code",
   "execution_count": null,
   "metadata": {
    "application/vnd.databricks.v1+cell": {
     "cellMetadata": {
      "byteLimit": 2048000,
      "rowLimit": 10000
     },
     "inputWidgets": {},
     "nuid": "c201309b-778e-4227-b71d-66ae4920ca56",
     "showTitle": false,
     "title": ""
    }
   },
   "outputs": [
    {
     "data": {
      "text/html": [
       "<style scoped>\n",
       "  .ansiout {\n",
       "    display: block;\n",
       "    unicode-bidi: embed;\n",
       "    white-space: pre-wrap;\n",
       "    word-wrap: break-word;\n",
       "    word-break: break-all;\n",
       "    font-family: \"Source Code Pro\", \"Menlo\", monospace;;\n",
       "    font-size: 13px;\n",
       "    color: #555;\n",
       "    margin-left: 4px;\n",
       "    line-height: 19px;\n",
       "  }\n",
       "</style>\n",
       "<div class=\"ansiout\">+--------------------+--------------------+--------------+\n",
       "             country|         poster_name|follower_count|\n",
       "+--------------------+--------------------+--------------+\n",
       "         Afghanistan|                9GAG|       3000000|\n",
       "             Albania|   The Minds Journal|       5000000|\n",
       "             Algeria|   Apartment Therapy|       5000000|\n",
       "      American Samoa|         Mamas Uncut|       8000000|\n",
       "             Andorra|Teachers Pay Teac...|       1000000|\n",
       "              Angola|           Tastemade|       8000000|\n",
       "            Anguilla|         Red Ted Art|        566000|\n",
       "Antarctica (the t...|          Refinery29|       1000000|\n",
       " Antigua and Barbuda|Country Living Ma...|       1000000|\n",
       "           Argentina|         Cheezburger|       2000000|\n",
       "             Armenia|Michelle {CraftyM...|        892000|\n",
       "               Aruba|         GQ Magazine|        874000|\n",
       "           Australia|        Mujer de 10 |       2000000|\n",
       "             Austria|Allwomenstalk - g...|        813000|\n",
       "          Azerbaijan|     Style Me Pretty|       6000000|\n",
       "             Bahamas|  Handmade Charlotte|        948000|\n",
       "             Bahrain|       Rainy Day Mum|        337000|\n",
       "          Bangladesh|Better Homes and ...|       4000000|\n",
       "            Barbados|The Creativity Ex...|        410000|\n",
       "             Belarus|Prudent Penny Pin...|        648000|\n",
       "+--------------------+--------------------+--------------+\n",
       "only showing top 20 rows\n",
       "\n",
       "+--------------+--------------+\n",
       "       country|follower_count|\n",
       "+--------------+--------------+\n",
       "American Samoa|       8000000|\n",
       "+--------------+--------------+\n",
       "\n",
       "</div>"
      ]
     },
     "metadata": {
      "application/vnd.databricks.v1+output": {
       "addedWidgets": {},
       "arguments": {},
       "data": "<div class=\"ansiout\">+--------------------+--------------------+--------------+\n|             country|         poster_name|follower_count|\n+--------------------+--------------------+--------------+\n|         Afghanistan|                9GAG|       3000000|\n|             Albania|   The Minds Journal|       5000000|\n|             Algeria|   Apartment Therapy|       5000000|\n|      American Samoa|         Mamas Uncut|       8000000|\n|             Andorra|Teachers Pay Teac...|       1000000|\n|              Angola|           Tastemade|       8000000|\n|            Anguilla|         Red Ted Art|        566000|\n|Antarctica (the t...|          Refinery29|       1000000|\n| Antigua and Barbuda|Country Living Ma...|       1000000|\n|           Argentina|         Cheezburger|       2000000|\n|             Armenia|Michelle {CraftyM...|        892000|\n|               Aruba|         GQ Magazine|        874000|\n|           Australia|        Mujer de 10 |       2000000|\n|             Austria|Allwomenstalk - g...|        813000|\n|          Azerbaijan|     Style Me Pretty|       6000000|\n|             Bahamas|  Handmade Charlotte|        948000|\n|             Bahrain|       Rainy Day Mum|        337000|\n|          Bangladesh|Better Homes and ...|       4000000|\n|            Barbados|The Creativity Ex...|        410000|\n|             Belarus|Prudent Penny Pin...|        648000|\n+--------------------+--------------------+--------------+\nonly showing top 20 rows\n\n+--------------+--------------+\n|       country|follower_count|\n+--------------+--------------+\n|American Samoa|       8000000|\n+--------------+--------------+\n\n</div>",
       "datasetInfos": [],
       "metadata": {},
       "removedWidgets": [],
       "type": "html"
      }
     },
     "output_type": "display_data"
    }
   ],
   "source": [
    "from pyspark.sql.window import Window\n",
    "df_most_followers_by_country = join_df(df_pin_cleaned, df_geo_cleaned)\n",
    "df_most_followers_by_country = df_most_followers_by_country.groupBy('country', 'poster_name') \\\n",
    "        .agg(max('follower_count')) \\\n",
    "            .withColumn('rank', rank().over(Window.partitionBy('country').orderBy(desc('max(follower_count)')))) \\\n",
    "                .filter('rank = 1') \\\n",
    "                    .select('country', 'poster_name', 'max(follower_count)') \\\n",
    "                        .withColumnRenamed('max(follower_count)', 'follower_count')\n",
    "\n",
    "df_most_followers_by_country.show()\n",
    "\n",
    "df_country_with_most_followed_user = df_most_followers_by_country.groupBy('country') \\\n",
    "    .agg(max('follower_count').alias('follower_count')) \\\n",
    "        .orderBy(desc('follower_count')) \\\n",
    "            .limit(1) \\\n",
    "                .select('country', 'follower_count')\n",
    "\n",
    "df_country_with_most_followed_user.show()"
   ]
  },
  {
   "cell_type": "markdown",
   "metadata": {
    "application/vnd.databricks.v1+cell": {
     "cellMetadata": {
      "byteLimit": 2048000,
      "rowLimit": 10000
     },
     "inputWidgets": {},
     "nuid": "60f16294-d2e5-4bec-80a2-4841550c6e73",
     "showTitle": false,
     "title": ""
    }
   },
   "source": [
    "In this query, I've firstly joined the pin and geolocation dataframes called the resulting dataframe 'df_most_followers_by_country'. I've then grouped this dataframe by the 'country' and 'poster_name' columns, as well as added a max() function to get the maximum follower count; next, I've added a Window function that ranks the maximum follower counts corresponding to each poster in descending order, as well as adding a filter so that only the highest ranking poster name for each country based on maximum follower count is shown. I've then selected the 'country', 'poster_name' and 'max(follower_count)' columns, renaming the last column to 'follower_count'."
   ]
  },
  {
   "cell_type": "markdown",
   "metadata": {
    "application/vnd.databricks.v1+cell": {
     "cellMetadata": {
      "byteLimit": 2048000,
      "rowLimit": 10000
     },
     "inputWidgets": {},
     "nuid": "1a516813-1c81-44e8-a2a5-0fe15c71632d",
     "showTitle": false,
     "title": ""
    }
   },
   "source": [
    "Using this dataframe, I've then grouped it by 'country', adding a max() function to calculate the most followers for each country, renaming the column 'follower_count'; I've then ordered the dataframe by the 'follower_count' column in descending order, as well as applying a limit of 1 so that only the first entry in the result gets returned, as this will be the country with the user with the most followers. Finally, I've selected the 'country' and 'follower_count' columns and have called the resulting dataframe 'df_country_with_most_followed_user'."
   ]
  },
  {
   "cell_type": "markdown",
   "metadata": {
    "application/vnd.databricks.v1+cell": {
     "cellMetadata": {
      "byteLimit": 2048000,
      "rowLimit": 10000
     },
     "inputWidgets": {},
     "nuid": "65aacec1-5aa0-44a7-b655-15fd84cd6fd8",
     "showTitle": false,
     "title": ""
    }
   },
   "source": [
    "7) Find the most popular category for different age groups"
   ]
  },
  {
   "cell_type": "code",
   "execution_count": null,
   "metadata": {
    "application/vnd.databricks.v1+cell": {
     "cellMetadata": {
      "byteLimit": 2048000,
      "rowLimit": 10000
     },
     "inputWidgets": {},
     "nuid": "c6911dd7-ab94-4a9e-9684-0213e1bcda34",
     "showTitle": false,
     "title": ""
    }
   },
   "outputs": [
    {
     "data": {
      "text/html": [
       "<style scoped>\n",
       "  .ansiout {\n",
       "    display: block;\n",
       "    unicode-bidi: embed;\n",
       "    white-space: pre-wrap;\n",
       "    word-wrap: break-word;\n",
       "    word-break: break-all;\n",
       "    font-family: \"Source Code Pro\", \"Menlo\", monospace;;\n",
       "    font-size: 13px;\n",
       "    color: #555;\n",
       "    margin-left: 4px;\n",
       "    line-height: 19px;\n",
       "  }\n",
       "</style>\n",
       "<div class=\"ansiout\">+---------+--------+--------------+\n",
       "age_group|category|category_count|\n",
       "+---------+--------+--------------+\n",
       "    18-24| tattoos|           446|\n",
       "    25-35|  travel|           231|\n",
       "    36-50|  quotes|           163|\n",
       "      50+|  beauty|            80|\n",
       "+---------+--------+--------------+\n",
       "\n",
       "</div>"
      ]
     },
     "metadata": {
      "application/vnd.databricks.v1+output": {
       "addedWidgets": {},
       "arguments": {},
       "data": "<div class=\"ansiout\">+---------+--------+--------------+\n|age_group|category|category_count|\n+---------+--------+--------------+\n|    18-24| tattoos|           446|\n|    25-35|  travel|           231|\n|    36-50|  quotes|           163|\n|      50+|  beauty|            80|\n+---------+--------+--------------+\n\n</div>",
       "datasetInfos": [],
       "metadata": {},
       "removedWidgets": [],
       "type": "html"
      }
     },
     "output_type": "display_data"
    }
   ],
   "source": [
    "df_pin_user = join_df(df_pin_cleaned, df_user_cleaned)\n",
    "df_user_age_group = create_age_groups(df_pin_user)\n",
    "df_category_count_by_age = df_user_age_group.groupBy(\"age_group\", \"category\").agg(count(\"*\").alias(\"category_count\")) \\\n",
    "        .groupBy(\"age_group\") \\\n",
    "            .agg(max(struct(\"category_count\", \"category\")).alias(\"max_count\")) \\\n",
    "                .select(\"age_group\", \"max_count.category\", \"max_count.category_count\")\n",
    "\n",
    "df_category_count_by_age.show()"
   ]
  },
  {
   "cell_type": "markdown",
   "metadata": {
    "application/vnd.databricks.v1+cell": {
     "cellMetadata": {
      "byteLimit": 2048000,
      "rowLimit": 10000
     },
     "inputWidgets": {},
     "nuid": "67c46365-44bb-4d1d-b900-f15c16b506e6",
     "showTitle": false,
     "title": ""
    }
   },
   "source": [
    "In this query, I've firstly joined the pin and user dataframes, naming the resulting dataframe 'df_pin_user'. I've then applied the 'create_age_groups' function that I created before to this dataframe, calling the resulting dataframe 'df_user_age_group'. Next, I've created a new dataframe called 'df_category_count_by_age', which firstly groups the 'df_user_age_group' dataframe by the 'age_group' and 'category' columns; next, I've added a count() function, which counts the total number of entries, giving it the alias 'category_count'. \n",
    "\n",
    "I've then grouped the dataframe by the 'age_group' column, creating a struct column with the alias 'max_count', using the 'category_count' and 'category' columns and applying the max() function to find the highest count for each category, and therefore for each age group as well. Finally, I've selected the 'age_group' column and the 'category' and 'category_count' columns from the 'max_count' struct individually."
   ]
  },
  {
   "cell_type": "markdown",
   "metadata": {
    "application/vnd.databricks.v1+cell": {
     "cellMetadata": {
      "byteLimit": 2048000,
      "rowLimit": 10000
     },
     "inputWidgets": {},
     "nuid": "ff9a1c20-66e8-4286-85f9-317f2ca3b181",
     "showTitle": false,
     "title": ""
    }
   },
   "source": [
    "8) Find the median follower count for different age groups"
   ]
  },
  {
   "cell_type": "code",
   "execution_count": null,
   "metadata": {
    "application/vnd.databricks.v1+cell": {
     "cellMetadata": {
      "byteLimit": 2048000,
      "rowLimit": 10000
     },
     "inputWidgets": {},
     "nuid": "1b1f997c-82f1-4404-ab92-912592157a90",
     "showTitle": false,
     "title": ""
    }
   },
   "outputs": [
    {
     "data": {
      "text/html": [
       "<style scoped>\n",
       "  .ansiout {\n",
       "    display: block;\n",
       "    unicode-bidi: embed;\n",
       "    white-space: pre-wrap;\n",
       "    word-wrap: break-word;\n",
       "    word-break: break-all;\n",
       "    font-family: \"Source Code Pro\", \"Menlo\", monospace;;\n",
       "    font-size: 13px;\n",
       "    color: #555;\n",
       "    margin-left: 4px;\n",
       "    line-height: 19px;\n",
       "  }\n",
       "</style>\n",
       "<div class=\"ansiout\">+---------+---------------------+\n",
       "age_group|median_follower_count|\n",
       "+---------+---------------------+\n",
       "      50+|                 1000|\n",
       "    36-50|                 6000|\n",
       "    18-24|                84000|\n",
       "    25-35|                28000|\n",
       "+---------+---------------------+\n",
       "\n",
       "</div>"
      ]
     },
     "metadata": {
      "application/vnd.databricks.v1+output": {
       "addedWidgets": {},
       "arguments": {},
       "data": "<div class=\"ansiout\">+---------+---------------------+\n|age_group|median_follower_count|\n+---------+---------------------+\n|      50+|                 1000|\n|    36-50|                 6000|\n|    18-24|                84000|\n|    25-35|                28000|\n+---------+---------------------+\n\n</div>",
       "datasetInfos": [],
       "metadata": {},
       "removedWidgets": [],
       "type": "html"
      }
     },
     "output_type": "display_data"
    }
   ],
   "source": [
    "df_median_follower_count_by_age = df_user_age_group.groupBy(\"age_group\") \\\n",
    "    .agg(percentile_approx(\"follower_count\", 0.5, lit(1000000)).alias(\"median_follower_count\")) \\\n",
    "        .select(\"age_group\", \"median_follower_count\")\n",
    "df_median_follower_count_by_age.show()"
   ]
  },
  {
   "cell_type": "markdown",
   "metadata": {
    "application/vnd.databricks.v1+cell": {
     "cellMetadata": {
      "byteLimit": 2048000,
      "rowLimit": 10000
     },
     "inputWidgets": {},
     "nuid": "6b80ad46-6a24-407e-9570-4889bf1db940",
     "showTitle": false,
     "title": ""
    }
   },
   "source": [
    "In this query, I've created a dataframe called 'df_median_follower_count_by_age', which takes the 'df_user_age_group' dataframe from the previous query, groups it by the 'age_group' column, then adds a percentile_approx() function with the alias 'median_follower_count', which gives the approximate 50th percentile aka median of the 'follower_count' column for each age group. 'lit(1000000)' ensures that the result is more accurate. Finally, I've selected the 'age_group' and 'median_follower_count' columns."
   ]
  },
  {
   "cell_type": "markdown",
   "metadata": {
    "application/vnd.databricks.v1+cell": {
     "cellMetadata": {
      "byteLimit": 2048000,
      "rowLimit": 10000
     },
     "inputWidgets": {},
     "nuid": "9d3e29c2-e9e6-4b6d-a88d-f53e301bdfd3",
     "showTitle": false,
     "title": ""
    }
   },
   "source": [
    "9) Find how many users have joined each year"
   ]
  },
  {
   "cell_type": "code",
   "execution_count": null,
   "metadata": {
    "application/vnd.databricks.v1+cell": {
     "cellMetadata": {
      "byteLimit": 2048000,
      "rowLimit": 10000
     },
     "inputWidgets": {},
     "nuid": "cbe62708-b5e8-4483-bcc5-b57048100b45",
     "showTitle": false,
     "title": ""
    }
   },
   "outputs": [
    {
     "data": {
      "text/html": [
       "<style scoped>\n",
       "  .ansiout {\n",
       "    display: block;\n",
       "    unicode-bidi: embed;\n",
       "    white-space: pre-wrap;\n",
       "    word-wrap: break-word;\n",
       "    word-break: break-all;\n",
       "    font-family: \"Source Code Pro\", \"Menlo\", monospace;;\n",
       "    font-size: 13px;\n",
       "    color: #555;\n",
       "    margin-left: 4px;\n",
       "    line-height: 19px;\n",
       "  }\n",
       "</style>\n",
       "<div class=\"ansiout\">+---------+-------------------+\n",
       "post_year|        date_joined|\n",
       "+---------+-------------------+\n",
       "     2022|2015-11-14 05:58:38|\n",
       "     2022|2015-10-28 03:16:59|\n",
       "     2022|2015-10-28 03:16:59|\n",
       "     2022|2015-10-28 03:16:59|\n",
       "     2022|2015-10-28 03:16:59|\n",
       "     2021|2016-02-08 06:54:03|\n",
       "     2020|2017-08-12 08:23:43|\n",
       "     2021|2016-09-07 04:52:20|\n",
       "     2021|2016-09-07 04:52:20|\n",
       "     2021|2016-09-07 04:52:20|\n",
       "     2021|2016-09-07 04:52:20|\n",
       "     2022|2015-10-21 08:27:36|\n",
       "     2022|2015-10-21 08:27:36|\n",
       "     2022|2015-10-21 08:27:36|\n",
       "     2022|2015-10-21 08:27:36|\n",
       "     2022|2015-10-21 08:27:36|\n",
       "     2022|2015-10-21 08:27:36|\n",
       "     2022|2015-10-21 08:27:36|\n",
       "     2022|2015-10-21 08:27:36|\n",
       "     2022|2015-10-21 08:27:36|\n",
       "+---------+-------------------+\n",
       "only showing top 20 rows\n",
       "\n",
       "+---------+-------------------+\n",
       "post_year|number_users_joined|\n",
       "+---------+-------------------+\n",
       "     2017|                283|\n",
       "     2018|               1459|\n",
       "     2019|               1405|\n",
       "     2020|               1382|\n",
       "     2021|               1315|\n",
       "     2022|               1139|\n",
       "+---------+-------------------+\n",
       "\n",
       "</div>"
      ]
     },
     "metadata": {
      "application/vnd.databricks.v1+output": {
       "addedWidgets": {},
       "arguments": {},
       "data": "<div class=\"ansiout\">+---------+-------------------+\n|post_year|        date_joined|\n+---------+-------------------+\n|     2022|2015-11-14 05:58:38|\n|     2022|2015-10-28 03:16:59|\n|     2022|2015-10-28 03:16:59|\n|     2022|2015-10-28 03:16:59|\n|     2022|2015-10-28 03:16:59|\n|     2021|2016-02-08 06:54:03|\n|     2020|2017-08-12 08:23:43|\n|     2021|2016-09-07 04:52:20|\n|     2021|2016-09-07 04:52:20|\n|     2021|2016-09-07 04:52:20|\n|     2021|2016-09-07 04:52:20|\n|     2022|2015-10-21 08:27:36|\n|     2022|2015-10-21 08:27:36|\n|     2022|2015-10-21 08:27:36|\n|     2022|2015-10-21 08:27:36|\n|     2022|2015-10-21 08:27:36|\n|     2022|2015-10-21 08:27:36|\n|     2022|2015-10-21 08:27:36|\n|     2022|2015-10-21 08:27:36|\n|     2022|2015-10-21 08:27:36|\n+---------+-------------------+\nonly showing top 20 rows\n\n+---------+-------------------+\n|post_year|number_users_joined|\n+---------+-------------------+\n|     2017|                283|\n|     2018|               1459|\n|     2019|               1405|\n|     2020|               1382|\n|     2021|               1315|\n|     2022|               1139|\n+---------+-------------------+\n\n</div>",
       "datasetInfos": [],
       "metadata": {},
       "removedWidgets": [],
       "type": "html"
      }
     },
     "output_type": "display_data"
    }
   ],
   "source": [
    "df_user_geo = join_df(df_user_cleaned, df_geo_cleaned)\n",
    "df_user_year = df_user_geo.select(year(\"timestamp\").alias(\"post_year\"), 'date_joined') \\\n",
    "        .where((df_user_cleaned.date_joined >= '2015-01-01') & (df_user_cleaned.date_joined < '2021-01-01'))\n",
    "\n",
    "df_user_year.show()\n",
    "\n",
    "df_users_joined_by_year = df_user_year.groupBy(\"post_year\") \\\n",
    "   .agg(count(\"*\").alias(\"number_users_joined\")) \\\n",
    "        .sort(asc(\"post_year\")) \\\n",
    "            .select(\"post_year\", \"number_users_joined\")\n",
    "\n",
    "df_users_joined_by_year.show()"
   ]
  },
  {
   "cell_type": "markdown",
   "metadata": {
    "application/vnd.databricks.v1+cell": {
     "cellMetadata": {
      "byteLimit": 2048000,
      "rowLimit": 10000
     },
     "inputWidgets": {},
     "nuid": "be8fc639-876a-41cd-b8c9-847ca0587132",
     "showTitle": false,
     "title": ""
    }
   },
   "source": [
    "For this query, I have firstly joined the user and geolocation dataframes, calling the new dataframe df_user_geo. Using this dataframe, I've then selected the year from the timestamp, calling it 'post_year' and the 'date_joined' column; I've also applied a filter to the dataframe to only display values where the year joined is between 2015 and 2020, with the resulting dataframe being called 'df_user_year'."
   ]
  },
  {
   "cell_type": "markdown",
   "metadata": {
    "application/vnd.databricks.v1+cell": {
     "cellMetadata": {
      "byteLimit": 2048000,
      "rowLimit": 10000
     },
     "inputWidgets": {},
     "nuid": "57b1dd45-7f9e-431f-8c59-58b368e9b94c",
     "showTitle": false,
     "title": ""
    }
   },
   "source": [
    "Then, using this dataframe, I've grouped it by the 'post_year' column, adding a count() function that counts the total number of entries with the alias 'number_users_joined'; I've sorted the dataframe by the 'post_year' column in ascending order, and finally selected the 'post_year' and 'number_users_joined' columns."
   ]
  },
  {
   "cell_type": "markdown",
   "metadata": {
    "application/vnd.databricks.v1+cell": {
     "cellMetadata": {
      "byteLimit": 2048000,
      "rowLimit": 10000
     },
     "inputWidgets": {},
     "nuid": "d90b8d56-3563-4ad6-b3ec-c7803818a9a4",
     "showTitle": false,
     "title": ""
    }
   },
   "source": [
    "10) Find the median follower count of users based on their joining year"
   ]
  },
  {
   "cell_type": "code",
   "execution_count": null,
   "metadata": {
    "application/vnd.databricks.v1+cell": {
     "cellMetadata": {
      "byteLimit": 2048000,
      "rowLimit": 10000
     },
     "inputWidgets": {},
     "nuid": "a35fe957-9270-43db-82ba-f021cc019b8c",
     "showTitle": false,
     "title": ""
    }
   },
   "outputs": [
    {
     "data": {
      "text/html": [
       "<style scoped>\n",
       "  .ansiout {\n",
       "    display: block;\n",
       "    unicode-bidi: embed;\n",
       "    white-space: pre-wrap;\n",
       "    word-wrap: break-word;\n",
       "    word-break: break-all;\n",
       "    font-family: \"Source Code Pro\", \"Menlo\", monospace;;\n",
       "    font-size: 13px;\n",
       "    color: #555;\n",
       "    margin-left: 4px;\n",
       "    line-height: 19px;\n",
       "  }\n",
       "</style>\n",
       "<div class=\"ansiout\">+---------+---------------------+\n",
       "post_year|median_follower_count|\n",
       "+---------+---------------------+\n",
       "     2018|                24000|\n",
       "     2022|                22000|\n",
       "     2019|                46000|\n",
       "     2020|                28000|\n",
       "     2021|                18000|\n",
       "     2017|               188000|\n",
       "+---------+---------------------+\n",
       "\n",
       "</div>"
      ]
     },
     "metadata": {
      "application/vnd.databricks.v1+output": {
       "addedWidgets": {},
       "arguments": {},
       "data": "<div class=\"ansiout\">+---------+---------------------+\n|post_year|median_follower_count|\n+---------+---------------------+\n|     2018|                24000|\n|     2022|                22000|\n|     2019|                46000|\n|     2020|                28000|\n|     2021|                18000|\n|     2017|               188000|\n+---------+---------------------+\n\n</div>",
       "datasetInfos": [],
       "metadata": {},
       "removedWidgets": [],
       "type": "html"
      }
     },
     "output_type": "display_data"
    }
   ],
   "source": [
    "df_user_geo_pin = join_df(df_user_geo, df_pin_cleaned)\n",
    "df_follower_joining_year = df_user_geo_pin.select(year(\"timestamp\").alias(\"post_year\"), \\\n",
    "     'date_joined', \"follower_count\") \\\n",
    "        .where((df_user_cleaned.date_joined >= '2015-01-01') & (df_user_cleaned.date_joined < '2021-01-01'))\n",
    "\n",
    "df_user_median_follower_count = df_follower_joining_year.groupBy(\"post_year\") \\\n",
    "    .agg(percentile_approx(\"follower_count\", 0.5, lit(1000000)).alias(\"median_follower_count\")) \\\n",
    "        .select(\"post_year\", \"median_follower_count\")\n",
    "\n",
    "df_user_median_follower_count.show()"
   ]
  },
  {
   "cell_type": "markdown",
   "metadata": {
    "application/vnd.databricks.v1+cell": {
     "cellMetadata": {
      "byteLimit": 2048000,
      "rowLimit": 10000
     },
     "inputWidgets": {},
     "nuid": "c6a78fe2-ea41-473d-a0f4-885b1286dea3",
     "showTitle": false,
     "title": ""
    }
   },
   "source": [
    "In this query, I've joined the pin dataframe to the user_geo dataframe created in an earlier query, calling the joined dataframe 'df_user_geo_pin'. Then, I've selected the year from the timestamp column, giving it the alias 'post_year', as well as the 'date_joined' and 'follower_count' columns, whilst applying a filter to only include values where the year joined is between 2015 and 2020; the resulting dataframe is called 'df_follower_joining_year'"
   ]
  },
  {
   "cell_type": "markdown",
   "metadata": {
    "application/vnd.databricks.v1+cell": {
     "cellMetadata": {
      "byteLimit": 2048000,
      "rowLimit": 10000
     },
     "inputWidgets": {},
     "nuid": "18f120c4-10b6-450f-8814-3063defed94e",
     "showTitle": false,
     "title": ""
    }
   },
   "source": [
    "Next, I've grouped this dataframe by the 'post_year' column, and added a percentile_approx() function like in step 8 above in order to calculate the median, giving it the alias 'median_follower_count'; finally, I've selected the 'post_year' and 'median_follower_count' columns, and called the resulting dataframe 'df_user_median_follower_count'."
   ]
  },
  {
   "cell_type": "markdown",
   "metadata": {
    "application/vnd.databricks.v1+cell": {
     "cellMetadata": {
      "byteLimit": 2048000,
      "rowLimit": 10000
     },
     "inputWidgets": {},
     "nuid": "99ae5814-aa59-49ee-89e2-d57653d8795a",
     "showTitle": false,
     "title": ""
    }
   },
   "source": [
    "11) Find the median follower count of users based on their joining year and age group"
   ]
  },
  {
   "cell_type": "code",
   "execution_count": null,
   "metadata": {
    "application/vnd.databricks.v1+cell": {
     "cellMetadata": {
      "byteLimit": 2048000,
      "rowLimit": 10000
     },
     "inputWidgets": {},
     "nuid": "14f3c545-bc66-4072-a5eb-3e188d6784e9",
     "showTitle": false,
     "title": ""
    }
   },
   "outputs": [
    {
     "data": {
      "text/html": [
       "<style scoped>\n",
       "  .ansiout {\n",
       "    display: block;\n",
       "    unicode-bidi: embed;\n",
       "    white-space: pre-wrap;\n",
       "    word-wrap: break-word;\n",
       "    word-break: break-all;\n",
       "    font-family: \"Source Code Pro\", \"Menlo\", monospace;;\n",
       "    font-size: 13px;\n",
       "    color: #555;\n",
       "    margin-left: 4px;\n",
       "    line-height: 19px;\n",
       "  }\n",
       "</style>\n",
       "<div class=\"ansiout\">+---------+---------+---------------------+\n",
       "age_group|post_year|median_follower_count|\n",
       "+---------+---------+---------------------+\n",
       "    36-50|     2018|                  112|\n",
       "    36-50|     2021|                 6000|\n",
       "      50+|     2018|                 9000|\n",
       "    25-35|     2022|                32000|\n",
       "      50+|     2022|                    3|\n",
       "    25-35|     2020|                30000|\n",
       "    18-24|     2019|                51000|\n",
       "    18-24|     2022|                66000|\n",
       "    18-24|     2020|                47000|\n",
       "    25-35|     2019|                51000|\n",
       "    25-35|     2018|                22000|\n",
       "    36-50|     2022|                 3000|\n",
       "    25-35|     2021|                27000|\n",
       "    18-24|     2018|                48000|\n",
       "    18-24|     2021|                52000|\n",
       "      50+|     2020|                   41|\n",
       "    36-50|     2020|                 9000|\n",
       "      50+|     2021|                 9000|\n",
       "      50+|     2019|                 2000|\n",
       "    25-35|     2017|                42000|\n",
       "+---------+---------+---------------------+\n",
       "only showing top 20 rows\n",
       "\n",
       "</div>"
      ]
     },
     "metadata": {
      "application/vnd.databricks.v1+output": {
       "addedWidgets": {},
       "arguments": {},
       "data": "<div class=\"ansiout\">+---------+---------+---------------------+\n|age_group|post_year|median_follower_count|\n+---------+---------+---------------------+\n|    36-50|     2018|                  112|\n|    36-50|     2021|                 6000|\n|      50+|     2018|                 9000|\n|    25-35|     2022|                32000|\n|      50+|     2022|                    3|\n|    25-35|     2020|                30000|\n|    18-24|     2019|                51000|\n|    18-24|     2022|                66000|\n|    18-24|     2020|                47000|\n|    25-35|     2019|                51000|\n|    25-35|     2018|                22000|\n|    36-50|     2022|                 3000|\n|    25-35|     2021|                27000|\n|    18-24|     2018|                48000|\n|    18-24|     2021|                52000|\n|      50+|     2020|                   41|\n|    36-50|     2020|                 9000|\n|      50+|     2021|                 9000|\n|      50+|     2019|                 2000|\n|    25-35|     2017|                42000|\n+---------+---------+---------------------+\nonly showing top 20 rows\n\n</div>",
       "datasetInfos": [],
       "metadata": {},
       "removedWidgets": [],
       "type": "html"
      }
     },
     "output_type": "display_data"
    }
   ],
   "source": [
    "df_user_age_group = create_age_groups(df_user_geo_pin)       \n",
    "df_user_age_group = df_user_age_group.select(\"age_group\", year(\"timestamp\").alias(\"post_year\"), 'date_joined', \"follower_count\") \\\n",
    "            .where((df_user_cleaned.date_joined >= '2015-01-01') & (df_user_cleaned.date_joined < '2021-01-01'))\n",
    "df_median_follower_by_year_joined = df_user_age_group.groupBy(\"age_group\", \"post_year\") \\\n",
    "    .agg(percentile_approx(\"follower_count\", 0.5, lit(1000000)).alias(\"median_follower_count\")) \\\n",
    "        .select(\"age_group\", \"post_year\", \"median_follower_count\")\n",
    "df_median_follower_by_year_joined.show()"
   ]
  },
  {
   "cell_type": "markdown",
   "metadata": {
    "application/vnd.databricks.v1+cell": {
     "cellMetadata": {
      "byteLimit": 2048000,
      "rowLimit": 10000
     },
     "inputWidgets": {},
     "nuid": "081c2d5f-d145-496b-a866-9319311d7d92",
     "showTitle": false,
     "title": ""
    }
   },
   "source": [
    "In this query, I've firstly applied the create_age_groups() function to the 'df_user_geo_pin' dataframe. Using this dataframe, I've selected the 'age_group', 'year', 'date_joined' and 'follower_count' columns, giving the 'year' column the alias 'post_year'; I've then added a filter in order to only return values where the joining year is between 2015 and 2020."
   ]
  },
  {
   "cell_type": "markdown",
   "metadata": {
    "application/vnd.databricks.v1+cell": {
     "cellMetadata": {
      "byteLimit": 2048000,
      "rowLimit": 10000
     },
     "inputWidgets": {},
     "nuid": "97f0ce3f-9eab-4150-a724-123ff41325f1",
     "showTitle": false,
     "title": ""
    }
   },
   "source": [
    "Next, I've grouped the dataframe by the 'age_group' and 'post_year' columns, as well as adding a percentile_approx() function to calculate the median like shown above, giving it the alias 'median_follower_count'; finally, I've selected the 'age_group', 'post_year' and 'median_follower_count' columns."
   ]
  },
  {
   "cell_type": "code",
   "execution_count": null,
   "metadata": {
    "application/vnd.databricks.v1+cell": {
     "cellMetadata": {
      "byteLimit": 2048000,
      "rowLimit": 10000
     },
     "inputWidgets": {},
     "nuid": "3aafd50f-72e6-4935-a7eb-7d4caf9228d4",
     "showTitle": false,
     "title": ""
    }
   },
   "outputs": [
    {
     "data": {
      "text/html": [
       "<style scoped>\n",
       "  .ansiout {\n",
       "    display: block;\n",
       "    unicode-bidi: embed;\n",
       "    white-space: pre-wrap;\n",
       "    word-wrap: break-word;\n",
       "    word-break: break-all;\n",
       "    font-family: \"Source Code Pro\", \"Menlo\", monospace;;\n",
       "    font-size: 13px;\n",
       "    color: #555;\n",
       "    margin-left: 4px;\n",
       "    line-height: 19px;\n",
       "  }\n",
       "</style>\n",
       "<div class=\"ansiout\">/mnt/pdp_mount has been unmounted.\n",
       "Out[247]: True</div>"
      ]
     },
     "metadata": {
      "application/vnd.databricks.v1+output": {
       "addedWidgets": {},
       "arguments": {},
       "data": "<div class=\"ansiout\">/mnt/pdp_mount has been unmounted.\nOut[247]: True</div>",
       "datasetInfos": [],
       "metadata": {},
       "removedWidgets": [],
       "type": "html"
      }
     },
     "output_type": "display_data"
    }
   ],
   "source": [
    "# Unmount the bucket\n",
    "dbutils.fs.unmount(MOUNT_NAME)"
   ]
  }
 ],
 "metadata": {
  "application/vnd.databricks.v1+notebook": {
   "dashboards": [],
   "language": "python",
   "notebookMetadata": {
    "pythonIndentUnit": 4
   },
   "notebookName": "batch_data_cleaning_and_querying",
   "widgets": {}
  },
  "language_info": {
   "name": "python"
  }
 },
 "nbformat": 4,
 "nbformat_minor": 0
}
